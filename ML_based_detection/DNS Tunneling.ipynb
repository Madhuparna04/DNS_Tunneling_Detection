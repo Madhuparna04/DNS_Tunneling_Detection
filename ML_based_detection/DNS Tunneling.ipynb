{
 "cells": [
  {
   "cell_type": "markdown",
   "metadata": {},
   "source": [
    "# DNS Tunneling Detection\n",
    "\n",
    "Dataset Credits : https://github.com/chuayupeng/dns-tunnelling-detection"
   ]
  },
  {
   "cell_type": "code",
   "execution_count": 11,
   "metadata": {},
   "outputs": [],
   "source": [
    "import pandas as pd\n",
    "from sklearn.model_selection import train_test_split \n",
    "from sklearn.naive_bayes import GaussianNB"
   ]
  },
  {
   "cell_type": "markdown",
   "metadata": {},
   "source": [
    "# Data Processing"
   ]
  },
  {
   "cell_type": "code",
   "execution_count": 12,
   "metadata": {},
   "outputs": [],
   "source": [
    "data = pd.read_csv(\"data.csv\")\n",
    "data.sample(frac=1)\n",
    "target=data['attack']\n",
    "data.drop(['packet', 'attack'], axis=1, inplace=True)\n",
    "train_data, test_data, train_target, test_target = train_test_split(data, target, test_size=0.8, random_state=0)"
   ]
  },
  {
   "cell_type": "markdown",
   "metadata": {},
   "source": [
    "# Naive Bayes Classifier"
   ]
  },
  {
   "cell_type": "code",
   "execution_count": 13,
   "metadata": {},
   "outputs": [
    {
     "name": "stdout",
     "output_type": "stream",
     "text": [
      "Number of mislabeled points out of a total 15098 points : 170\n",
      "True Positives : 14760\n",
      "True Negatives : 168\n",
      "False Positives : 170\n",
      "False Negatives : 0\n"
     ]
    }
   ],
   "source": [
    "gnb = GaussianNB()\n",
    "y_pred = gnb.fit(train_data, train_target).predict(test_data)\n",
    "print(\"Number of mislabeled points out of a total %d points : %d\"\n",
    "      % (test_target.shape[0], (test_target != y_pred).sum()))\n",
    "\n",
    "test_target = test_target.to_numpy()\n",
    "tp = 0\n",
    "tn = 0\n",
    "fp = 0\n",
    "fn = 0\n",
    "for t in range(test_target.shape[0]):\n",
    "    if test_target[t] == -1:\n",
    "        if y_pred[t] == 1:\n",
    "            fp += 1\n",
    "        else:\n",
    "            tn += 1\n",
    "    else:\n",
    "        if y_pred[t] == 1:\n",
    "            tp += 1\n",
    "        else:\n",
    "            fn += 1\n",
    "            \n",
    "print(\"True Positives :\", tp)\n",
    "print(\"True Negatives :\", tn)\n",
    "print(\"False Positives :\", fp)\n",
    "print(\"False Negatives :\", fn)"
   ]
  },
  {
   "cell_type": "code",
   "execution_count": null,
   "metadata": {},
   "outputs": [],
   "source": []
  },
  {
   "cell_type": "code",
   "execution_count": null,
   "metadata": {},
   "outputs": [],
   "source": []
  }
 ],
 "metadata": {
  "kernelspec": {
   "display_name": "Python 3",
   "language": "python",
   "name": "python3"
  },
  "language_info": {
   "codemirror_mode": {
    "name": "ipython",
    "version": 3
   },
   "file_extension": ".py",
   "mimetype": "text/x-python",
   "name": "python",
   "nbconvert_exporter": "python",
   "pygments_lexer": "ipython3",
   "version": "3.8.5"
  }
 },
 "nbformat": 4,
 "nbformat_minor": 4
}
