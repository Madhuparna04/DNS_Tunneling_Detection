{
 "cells": [
  {
   "cell_type": "code",
   "execution_count": 38,
   "metadata": {},
   "outputs": [],
   "source": [
    "import time\n",
    "import pandas as pd\n",
    "import numpy as np\n",
    "from collections import Counter\n",
    "import matplotlib.pyplot as plt\n",
    "from sklearn.model_selection import train_test_split \n",
    "from sklearn.naive_bayes import GaussianNB\n",
    "from sklearn.ensemble import RandomForestClassifier\n",
    "from sklearn.tree import DecisionTreeClassifier\n",
    "from sklearn.neural_network import MLPClassifier\n",
    "from sklearn.naive_bayes import MultinomialNB\n",
    "from sklearn.naive_bayes import BernoulliNB\n",
    "from sklearn.svm import SVC, NuSVC, LinearSVC\n",
    "from sklearn.metrics import accuracy_score, confusion_matrix\n",
    "from sklearn.neighbors import KNeighborsClassifier\n",
    "from sklearn.metrics import classification_report"
   ]
  },
  {
   "cell_type": "markdown",
   "metadata": {},
   "source": [
    "# Data Processing"
   ]
  },
  {
   "cell_type": "code",
   "execution_count": 56,
   "metadata": {},
   "outputs": [],
   "source": [
    "data = pd.read_csv(\"data.csv\")\n",
    "data.sample(frac=1)\n",
    "target=data['attack']\n",
    "data.drop(['packet', 'attack'], axis=1, inplace=True)\n",
    "train_data, test_data, train_target, test_target = train_test_split(data, target, test_size=0.8, random_state=50)"
   ]
  },
  {
   "cell_type": "code",
   "execution_count": 57,
   "metadata": {},
   "outputs": [],
   "source": [
    "def PrintStats(y_pred, test_target):\n",
    "    print(\"Number of mislabeled points out of a total %d points : %d\"\n",
    "      % (test_target.shape[0], (test_target != y_pred).sum()))\n",
    "\n",
    "    test_target = test_target.to_numpy()\n",
    "    tp = 0\n",
    "    tn = 0\n",
    "    fp = 0\n",
    "    fn = 0\n",
    "    for t in range(test_target.shape[0]):\n",
    "        if test_target[t] == -1:\n",
    "            if y_pred[t] == 1:\n",
    "                fp += 1\n",
    "            else:\n",
    "                tn += 1\n",
    "        else:\n",
    "            if y_pred[t] == 1:\n",
    "                tp += 1\n",
    "            else:\n",
    "                fn += 1\n",
    "\n",
    "    print(\"True Positives :\", tp)\n",
    "    print(\"True Negatives :\", tn)\n",
    "    print(\"False Positives :\", fp)\n",
    "    print(\"False Negatives :\", fn)"
   ]
  },
  {
   "cell_type": "code",
   "execution_count": 58,
   "metadata": {},
   "outputs": [],
   "source": [
    "def mode(sample):\n",
    "    c = Counter(sample)\n",
    "    return [k for k, v in c.items() if v == c.most_common(1)[0][1]]"
   ]
  },
  {
   "cell_type": "markdown",
   "metadata": {},
   "source": [
    "# Decision Tree, KNN and Gaussian Naive Bayes"
   ]
  },
  {
   "cell_type": "code",
   "execution_count": 59,
   "metadata": {},
   "outputs": [
    {
     "name": "stdout",
     "output_type": "stream",
     "text": [
      "The time taken is:  540.3978824615479 millisec\n",
      "Number of mislabeled points out of a total 15098 points : 6\n",
      "True Positives : 14749\n",
      "True Negatives : 343\n",
      "False Positives : 6\n",
      "False Negatives : 0\n"
     ]
    }
   ],
   "source": [
    "start = time.time()\n",
    "\n",
    "model1 = DecisionTreeClassifier()\n",
    "model2 = KNeighborsClassifier(n_neighbors = 2)\n",
    "model3 = GaussianNB()\n",
    "\n",
    "model1.fit(train_data, train_target)\n",
    "model2.fit(train_data, train_target)\n",
    "model3.fit(train_data, train_target)\n",
    "\n",
    "pred1 = model1.predict(test_data)\n",
    "pred2 = model2.predict(test_data)\n",
    "pred3 = model3.predict(test_data)\n",
    "\n",
    "final_pred = np.array([])\n",
    "for i in range(0,len(test_data)):\n",
    "    final_pred = np.append(final_pred, mode([pred1[i], pred2[i], pred3[i]]))\n",
    "\n",
    "end = time.time()\n",
    "print(\"The time taken is: \",(end-start)*1000,\"millisec\")\n",
    "PrintStats(final_pred, test_target)"
   ]
  },
  {
   "cell_type": "code",
   "execution_count": 60,
   "metadata": {},
   "outputs": [
    {
     "name": "stdout",
     "output_type": "stream",
     "text": [
      "The accuracy is:  99.96025963703802 %\n"
     ]
    }
   ],
   "source": [
    "print(\"The accuracy is: \",accuracy_score(test_target, final_pred)*100,\"%\")"
   ]
  },
  {
   "cell_type": "code",
   "execution_count": 61,
   "metadata": {},
   "outputs": [
    {
     "name": "stdout",
     "output_type": "stream",
     "text": [
      "              precision    recall  f1-score   support\n",
      "\n",
      "          -1       1.00      0.98      0.99       349\n",
      "           1       1.00      1.00      1.00     14749\n",
      "\n",
      "   micro avg       1.00      1.00      1.00     15098\n",
      "   macro avg       1.00      0.99      1.00     15098\n",
      "weighted avg       1.00      1.00      1.00     15098\n",
      "\n"
     ]
    }
   ],
   "source": [
    "print(classification_report(test_target, final_pred))"
   ]
  },
  {
   "cell_type": "markdown",
   "metadata": {},
   "source": [
    "# Random Forest, Decision Tree and Quadratic SVM"
   ]
  },
  {
   "cell_type": "code",
   "execution_count": 62,
   "metadata": {},
   "outputs": [
    {
     "name": "stdout",
     "output_type": "stream",
     "text": [
      "The time taken is:  409.99722480773926 millisec\n",
      "Number of mislabeled points out of a total 15098 points : 8\n",
      "True Positives : 14749\n",
      "True Negatives : 341\n",
      "False Positives : 8\n",
      "False Negatives : 0\n"
     ]
    }
   ],
   "source": [
    "start = time.time()\n",
    "\n",
    "model1 = RandomForestClassifier(n_estimators = 100)\n",
    "model2 = DecisionTreeClassifier() \n",
    "model3 = SVC(kernel='poly', degree=2, gamma='scale')\n",
    "\n",
    "model1.fit(train_data, train_target)\n",
    "model2.fit(train_data, train_target)\n",
    "model3.fit(train_data, train_target)\n",
    "\n",
    "pred1 = model1.predict(test_data)\n",
    "pred2 = model2.predict(test_data)\n",
    "pred3 = model3.predict(test_data)\n",
    "\n",
    "final_pred = np.array([])\n",
    "for i in range(0,len(test_data)):\n",
    "    final_pred = np.append(final_pred, mode([pred1[i], pred2[i], pred3[i]]))\n",
    "\n",
    "end = time.time()\n",
    "print(\"The time taken is: \",(end-start)*1000,\"millisec\")\n",
    "PrintStats(final_pred, test_target)"
   ]
  },
  {
   "cell_type": "code",
   "execution_count": 63,
   "metadata": {},
   "outputs": [
    {
     "name": "stdout",
     "output_type": "stream",
     "text": [
      "The accuracy is:  99.94701284938402 %\n"
     ]
    }
   ],
   "source": [
    "print(\"The accuracy is: \",accuracy_score(test_target, final_pred)*100,\"%\")"
   ]
  },
  {
   "cell_type": "code",
   "execution_count": 64,
   "metadata": {},
   "outputs": [
    {
     "name": "stdout",
     "output_type": "stream",
     "text": [
      "              precision    recall  f1-score   support\n",
      "\n",
      "          -1       1.00      0.98      0.99       349\n",
      "           1       1.00      1.00      1.00     14749\n",
      "\n",
      "   micro avg       1.00      1.00      1.00     15098\n",
      "   macro avg       1.00      0.99      0.99     15098\n",
      "weighted avg       1.00      1.00      1.00     15098\n",
      "\n"
     ]
    }
   ],
   "source": [
    "print(classification_report(test_target, final_pred))"
   ]
  },
  {
   "cell_type": "markdown",
   "metadata": {},
   "source": [
    "# Random Forest and Decision Tree"
   ]
  },
  {
   "cell_type": "code",
   "execution_count": 65,
   "metadata": {},
   "outputs": [
    {
     "name": "stdout",
     "output_type": "stream",
     "text": [
      "The time taken is:  387.87841796875 millisec\n",
      "Number of mislabeled points out of a total 15098 points : 8\n",
      "True Positives : 14749\n",
      "True Negatives : 341\n",
      "False Positives : 8\n",
      "False Negatives : 0\n"
     ]
    }
   ],
   "source": [
    "start = time.time()\n",
    "\n",
    "model1 = RandomForestClassifier(n_estimators = 100)\n",
    "model2 = DecisionTreeClassifier() \n",
    "\n",
    "model1.fit(train_data, train_target)\n",
    "model2.fit(train_data, train_target)\n",
    "\n",
    "pred1 = model1.predict(test_data)\n",
    "pred2 = model2.predict(test_data)\n",
    "\n",
    "final_pred = np.array([])\n",
    "for i in range(0,len(test_data)):\n",
    "    final_pred = np.append(final_pred, mode([pred1[i], pred2[i]]))\n",
    "\n",
    "end = time.time()\n",
    "print(\"The time taken is: \",(end-start)*1000,\"millisec\")\n",
    "PrintStats(final_pred, test_target)"
   ]
  },
  {
   "cell_type": "code",
   "execution_count": 66,
   "metadata": {},
   "outputs": [
    {
     "name": "stdout",
     "output_type": "stream",
     "text": [
      "The accuracy is:  99.94701284938402 %\n"
     ]
    }
   ],
   "source": [
    "print(\"The accuracy is: \",accuracy_score(test_target, final_pred)*100,\"%\")"
   ]
  },
  {
   "cell_type": "code",
   "execution_count": 67,
   "metadata": {},
   "outputs": [
    {
     "name": "stdout",
     "output_type": "stream",
     "text": [
      "              precision    recall  f1-score   support\n",
      "\n",
      "          -1       1.00      0.98      0.99       349\n",
      "           1       1.00      1.00      1.00     14749\n",
      "\n",
      "   micro avg       1.00      1.00      1.00     15098\n",
      "   macro avg       1.00      0.99      0.99     15098\n",
      "weighted avg       1.00      1.00      1.00     15098\n",
      "\n"
     ]
    }
   ],
   "source": [
    "print(classification_report(test_target, final_pred))"
   ]
  }
 ],
 "metadata": {
  "kernelspec": {
   "display_name": "Python 3",
   "language": "python",
   "name": "python3"
  },
  "language_info": {
   "codemirror_mode": {
    "name": "ipython",
    "version": 3
   },
   "file_extension": ".py",
   "mimetype": "text/x-python",
   "name": "python",
   "nbconvert_exporter": "python",
   "pygments_lexer": "ipython3",
   "version": "3.6.9"
  }
 },
 "nbformat": 4,
 "nbformat_minor": 2
}
