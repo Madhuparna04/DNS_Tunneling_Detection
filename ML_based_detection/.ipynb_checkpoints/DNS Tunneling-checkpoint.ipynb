{
 "cells": [
  {
   "cell_type": "markdown",
   "metadata": {},
   "source": [
    "# DNS Tunneling Detection\n",
    "\n",
    "Dataset Credits : https://github.com/chuayupeng/dns-tunnelling-detection"
   ]
  },
  {
   "cell_type": "code",
   "execution_count": 1,
   "metadata": {},
   "outputs": [],
   "source": [
    "import time\n",
    "import pandas as pd\n",
    "import matplotlib.pyplot as plt\n",
    "from sklearn.model_selection import train_test_split \n",
    "from sklearn.naive_bayes import GaussianNB\n",
    "from sklearn.ensemble import RandomForestClassifier\n",
    "from sklearn.tree import DecisionTreeClassifier\n",
    "from sklearn.neural_network import MLPClassifier\n",
    "from sklearn.naive_bayes import MultinomialNB\n",
    "from sklearn.naive_bayes import BernoulliNB\n",
    "from sklearn.svm import SVC, NuSVC, LinearSVC\n",
    "from sklearn.metrics import accuracy_score, confusion_matrix\n",
    "from sklearn.neighbors import KNeighborsClassifier\n",
    "from sklearn.metrics import classification_report"
   ]
  },
  {
   "cell_type": "markdown",
   "metadata": {},
   "source": [
    "# Data Processing"
   ]
  },
  {
   "cell_type": "code",
   "execution_count": 2,
   "metadata": {},
   "outputs": [],
   "source": [
    "data = pd.read_csv(\"data.csv\")\n",
    "data.sample(frac=1)\n",
    "target=data['attack']\n",
    "data.drop(['packet', 'attack'], axis=1, inplace=True)\n",
    "train_data, test_data, train_target, test_target = train_test_split(data, target, test_size=0.8, random_state=0)"
   ]
  },
  {
   "cell_type": "code",
   "execution_count": 3,
   "metadata": {},
   "outputs": [],
   "source": [
    "def PrintStats(y_pred, test_target):\n",
    "    print(\"Number of mislabeled points out of a total %d points : %d\"\n",
    "      % (test_target.shape[0], (test_target != y_pred).sum()))\n",
    "\n",
    "    test_target = test_target.to_numpy()\n",
    "    tp = 0\n",
    "    tn = 0\n",
    "    fp = 0\n",
    "    fn = 0\n",
    "    for t in range(test_target.shape[0]):\n",
    "        if test_target[t] == -1:\n",
    "            if y_pred[t] == 1:\n",
    "                fp += 1\n",
    "            else:\n",
    "                tn += 1\n",
    "        else:\n",
    "            if y_pred[t] == 1:\n",
    "                tp += 1\n",
    "            else:\n",
    "                fn += 1\n",
    "\n",
    "    print(\"True Positives :\", tp)\n",
    "    print(\"True Negatives :\", tn)\n",
    "    print(\"False Positives :\", fp)\n",
    "    print(\"False Negatives :\", fn)"
   ]
  },
  {
   "cell_type": "markdown",
   "metadata": {},
   "source": [
    "# Gaussian Naive Bayes Classifier"
   ]
  },
  {
   "cell_type": "code",
   "execution_count": 38,
   "metadata": {},
   "outputs": [
    {
     "name": "stdout",
     "output_type": "stream",
     "text": [
      "The time taken is:  6.273031234741211 millisec\n",
      "Number of mislabeled points out of a total 15098 points : 170\n",
      "True Positives : 14760\n",
      "True Negatives : 168\n",
      "False Positives : 170\n",
      "False Negatives : 0\n"
     ]
    }
   ],
   "source": [
    "gnb = GaussianNB()\n",
    "start = time.time()\n",
    "y_pred = gnb.fit(train_data, train_target).predict(test_data)\n",
    "end = time.time()\n",
    "print(\"The time taken is: \",(end-start)*1000,\"millisec\")\n",
    "PrintStats(y_pred, test_target)"
   ]
  },
  {
   "cell_type": "code",
   "execution_count": 39,
   "metadata": {},
   "outputs": [
    {
     "name": "stdout",
     "output_type": "stream",
     "text": [
      "The accuracy is:  98.87402304941052 %\n"
     ]
    }
   ],
   "source": [
    "print(\"The accuracy is: \",accuracy_score(test_target, y_pred)*100,\"%\")"
   ]
  },
  {
   "cell_type": "code",
   "execution_count": 40,
   "metadata": {},
   "outputs": [
    {
     "name": "stdout",
     "output_type": "stream",
     "text": [
      "              precision    recall  f1-score   support\n",
      "\n",
      "          -1       1.00      0.50      0.66       338\n",
      "           1       0.99      1.00      0.99     14760\n",
      "\n",
      "   micro avg       0.99      0.99      0.99     15098\n",
      "   macro avg       0.99      0.75      0.83     15098\n",
      "weighted avg       0.99      0.99      0.99     15098\n",
      "\n"
     ]
    }
   ],
   "source": [
    "print(classification_report(test_target, y_pred))"
   ]
  },
  {
   "cell_type": "markdown",
   "metadata": {},
   "source": [
    "# Multinomial Naive Bayes Classifier"
   ]
  },
  {
   "cell_type": "code",
   "execution_count": 41,
   "metadata": {},
   "outputs": [
    {
     "name": "stdout",
     "output_type": "stream",
     "text": [
      "The time taken is:  8.806943893432617 millisec\n",
      "Number of mislabeled points out of a total 15098 points : 1926\n",
      "True Positives : 12897\n",
      "True Negatives : 275\n",
      "False Positives : 63\n",
      "False Negatives : 1863\n"
     ]
    }
   ],
   "source": [
    "start = time.time()\n",
    "MultiNB = MultinomialNB()\n",
    "y_pred = MultiNB.fit(train_data, train_target).predict(test_data)\n",
    "end = time.time()\n",
    "print(\"The time taken is: \",(end-start)*1000,\"millisec\")\n",
    "PrintStats(y_pred, test_target)"
   ]
  },
  {
   "cell_type": "code",
   "execution_count": 42,
   "metadata": {},
   "outputs": [
    {
     "name": "stdout",
     "output_type": "stream",
     "text": [
      "The accuracy is:  87.24334348920387 %\n"
     ]
    }
   ],
   "source": [
    "print(\"The accuracy is: \",accuracy_score(test_target, y_pred)*100,\"%\")"
   ]
  },
  {
   "cell_type": "code",
   "execution_count": 43,
   "metadata": {},
   "outputs": [
    {
     "name": "stdout",
     "output_type": "stream",
     "text": [
      "              precision    recall  f1-score   support\n",
      "\n",
      "          -1       0.13      0.81      0.22       338\n",
      "           1       1.00      0.87      0.93     14760\n",
      "\n",
      "   micro avg       0.87      0.87      0.87     15098\n",
      "   macro avg       0.56      0.84      0.58     15098\n",
      "weighted avg       0.98      0.87      0.91     15098\n",
      "\n"
     ]
    }
   ],
   "source": [
    "print(classification_report(test_target, y_pred))"
   ]
  },
  {
   "cell_type": "markdown",
   "metadata": {},
   "source": [
    "# Bernoulli Naive Bayes Classifier"
   ]
  },
  {
   "cell_type": "code",
   "execution_count": 44,
   "metadata": {},
   "outputs": [
    {
     "name": "stdout",
     "output_type": "stream",
     "text": [
      "The time taken is:  5.345344543457031 millisec\n",
      "Number of mislabeled points out of a total 15098 points : 338\n",
      "True Positives : 14760\n",
      "True Negatives : 0\n",
      "False Positives : 338\n",
      "False Negatives : 0\n"
     ]
    }
   ],
   "source": [
    "start = time.time()\n",
    "BernNB = BernoulliNB(binarize = 0.05)\n",
    "y_pred = BernNB.fit(train_data, train_target).predict(test_data)\n",
    "end = time.time()\n",
    "print(\"The time taken is: \",(end-start)*1000,\"millisec\")\n",
    "PrintStats(y_pred, test_target)"
   ]
  },
  {
   "cell_type": "code",
   "execution_count": 45,
   "metadata": {},
   "outputs": [
    {
     "name": "stdout",
     "output_type": "stream",
     "text": [
      "The accuracy is:  97.76129288647503 %\n"
     ]
    }
   ],
   "source": [
    "print(\"The accuracy is: \",accuracy_score(test_target, y_pred)*100,\"%\")"
   ]
  },
  {
   "cell_type": "code",
   "execution_count": 46,
   "metadata": {},
   "outputs": [
    {
     "name": "stdout",
     "output_type": "stream",
     "text": [
      "              precision    recall  f1-score   support\n",
      "\n",
      "          -1       0.00      0.00      0.00       338\n",
      "           1       0.98      1.00      0.99     14760\n",
      "\n",
      "   micro avg       0.98      0.98      0.98     15098\n",
      "   macro avg       0.49      0.50      0.49     15098\n",
      "weighted avg       0.96      0.98      0.97     15098\n",
      "\n"
     ]
    },
    {
     "name": "stderr",
     "output_type": "stream",
     "text": [
      "/home/aastha/.local/lib/python3.6/site-packages/sklearn/metrics/classification.py:1143: UndefinedMetricWarning: Precision and F-score are ill-defined and being set to 0.0 in labels with no predicted samples.\n",
      "  'precision', 'predicted', average, warn_for)\n"
     ]
    }
   ],
   "source": [
    "print(classification_report(test_target, y_pred))"
   ]
  },
  {
   "cell_type": "markdown",
   "metadata": {},
   "source": [
    "# Random Forest Classifier"
   ]
  },
  {
   "cell_type": "code",
   "execution_count": 47,
   "metadata": {},
   "outputs": [
    {
     "name": "stdout",
     "output_type": "stream",
     "text": [
      "The time taken is:  188.950777053833 millisec\n",
      "Number of mislabeled points out of a total 15098 points : 0\n",
      "True Positives : 14760\n",
      "True Negatives : 338\n",
      "False Positives : 0\n",
      "False Negatives : 0\n"
     ]
    }
   ],
   "source": [
    "start = time.time()\n",
    "clf = RandomForestClassifier(n_estimators = 100)  \n",
    "clf.fit(train_data, train_target) \n",
    "y_pred = clf.predict(test_data)\n",
    "end = time.time()\n",
    "print(\"The time taken is: \",(end-start)*1000,\"millisec\")\n",
    "PrintStats(y_pred, test_target)"
   ]
  },
  {
   "cell_type": "code",
   "execution_count": 48,
   "metadata": {},
   "outputs": [
    {
     "name": "stdout",
     "output_type": "stream",
     "text": [
      "The accuracy is:  100.0 %\n"
     ]
    }
   ],
   "source": [
    "print(\"The accuracy is: \",accuracy_score(test_target, y_pred)*100,\"%\")"
   ]
  },
  {
   "cell_type": "code",
   "execution_count": 49,
   "metadata": {},
   "outputs": [
    {
     "name": "stdout",
     "output_type": "stream",
     "text": [
      "              precision    recall  f1-score   support\n",
      "\n",
      "          -1       1.00      1.00      1.00       338\n",
      "           1       1.00      1.00      1.00     14760\n",
      "\n",
      "   micro avg       1.00      1.00      1.00     15098\n",
      "   macro avg       1.00      1.00      1.00     15098\n",
      "weighted avg       1.00      1.00      1.00     15098\n",
      "\n"
     ]
    }
   ],
   "source": [
    "print(classification_report(test_target, y_pred))"
   ]
  },
  {
   "cell_type": "markdown",
   "metadata": {},
   "source": [
    "# Decision Tree Classifier"
   ]
  },
  {
   "cell_type": "code",
   "execution_count": 50,
   "metadata": {},
   "outputs": [
    {
     "name": "stdout",
     "output_type": "stream",
     "text": [
      "The time taken is:  8.431434631347656 millisec\n",
      "Number of mislabeled points out of a total 15098 points : 0\n",
      "True Positives : 14760\n",
      "True Negatives : 338\n",
      "False Positives : 0\n",
      "False Negatives : 0\n"
     ]
    }
   ],
   "source": [
    "start = time.time()\n",
    "clf = DecisionTreeClassifier()   \n",
    "clf.fit(train_data, train_target) \n",
    "y_pred = clf.predict(test_data)\n",
    "end = time.time()\n",
    "print(\"The time taken is: \",(end-start)*1000,\"millisec\")\n",
    "PrintStats(y_pred, test_target)"
   ]
  },
  {
   "cell_type": "code",
   "execution_count": 51,
   "metadata": {},
   "outputs": [
    {
     "name": "stdout",
     "output_type": "stream",
     "text": [
      "The accuracy is:  100.0 %\n"
     ]
    }
   ],
   "source": [
    "print(\"The accuracy is: \",accuracy_score(test_target, y_pred)*100,\"%\")"
   ]
  },
  {
   "cell_type": "code",
   "execution_count": 52,
   "metadata": {},
   "outputs": [
    {
     "name": "stdout",
     "output_type": "stream",
     "text": [
      "              precision    recall  f1-score   support\n",
      "\n",
      "          -1       1.00      1.00      1.00       338\n",
      "           1       1.00      1.00      1.00     14760\n",
      "\n",
      "   micro avg       1.00      1.00      1.00     15098\n",
      "   macro avg       1.00      1.00      1.00     15098\n",
      "weighted avg       1.00      1.00      1.00     15098\n",
      "\n"
     ]
    }
   ],
   "source": [
    "print(classification_report(test_target, y_pred))"
   ]
  },
  {
   "cell_type": "markdown",
   "metadata": {},
   "source": [
    "# Multi Layer Perceptron"
   ]
  },
  {
   "cell_type": "code",
   "execution_count": 53,
   "metadata": {},
   "outputs": [
    {
     "name": "stdout",
     "output_type": "stream",
     "text": [
      "The time taken is:  77.53133773803711 millisec\n",
      "Number of mislabeled points out of a total 15098 points : 338\n",
      "True Positives : 14760\n",
      "True Negatives : 0\n",
      "False Positives : 338\n",
      "False Negatives : 0\n"
     ]
    }
   ],
   "source": [
    "start = time.time()\n",
    "clf = MLPClassifier(solver='lbfgs', alpha=1e-5, hidden_layer_sizes=(15, 10), random_state=1)\n",
    "clf.fit(train_data, train_target) \n",
    "y_pred = clf.predict(test_data)\n",
    "end = time.time()\n",
    "print(\"The time taken is: \",(end-start)*1000,\"millisec\")\n",
    "PrintStats(y_pred, test_target)"
   ]
  },
  {
   "cell_type": "code",
   "execution_count": 54,
   "metadata": {},
   "outputs": [
    {
     "name": "stdout",
     "output_type": "stream",
     "text": [
      "The accuracy is:  97.76129288647503 %\n"
     ]
    }
   ],
   "source": [
    "print(\"The accuracy is: \",accuracy_score(test_target, y_pred)*100,\"%\")"
   ]
  },
  {
   "cell_type": "code",
   "execution_count": 55,
   "metadata": {
    "scrolled": true
   },
   "outputs": [
    {
     "name": "stdout",
     "output_type": "stream",
     "text": [
      "              precision    recall  f1-score   support\n",
      "\n",
      "          -1       0.00      0.00      0.00       338\n",
      "           1       0.98      1.00      0.99     14760\n",
      "\n",
      "   micro avg       0.98      0.98      0.98     15098\n",
      "   macro avg       0.49      0.50      0.49     15098\n",
      "weighted avg       0.96      0.98      0.97     15098\n",
      "\n"
     ]
    },
    {
     "name": "stderr",
     "output_type": "stream",
     "text": [
      "/home/aastha/.local/lib/python3.6/site-packages/sklearn/metrics/classification.py:1143: UndefinedMetricWarning: Precision and F-score are ill-defined and being set to 0.0 in labels with no predicted samples.\n",
      "  'precision', 'predicted', average, warn_for)\n"
     ]
    }
   ],
   "source": [
    "print(classification_report(test_target, y_pred))"
   ]
  },
  {
   "cell_type": "markdown",
   "metadata": {},
   "source": [
    "# Linear Support Vector Machine "
   ]
  },
  {
   "cell_type": "code",
   "execution_count": 56,
   "metadata": {},
   "outputs": [
    {
     "name": "stdout",
     "output_type": "stream",
     "text": [
      "The time taken is:  121.28448486328125 millisec\n",
      "Number of mislabeled points out of a total 15098 points : 338\n",
      "True Positives : 14760\n",
      "True Negatives : 0\n",
      "False Positives : 338\n",
      "False Negatives : 0\n"
     ]
    },
    {
     "name": "stderr",
     "output_type": "stream",
     "text": [
      "/home/aastha/.local/lib/python3.6/site-packages/sklearn/svm/base.py:931: ConvergenceWarning: Liblinear failed to converge, increase the number of iterations.\n",
      "  \"the number of iterations.\", ConvergenceWarning)\n"
     ]
    }
   ],
   "source": [
    "start = time.time()\n",
    "SVML = LinearSVC()\n",
    "y_pred = SVML.fit(train_data, train_target).predict(test_data)\n",
    "end = time.time()\n",
    "print(\"The time taken is: \",(end-start)*1000,\"millisec\")\n",
    "PrintStats(y_pred, test_target)"
   ]
  },
  {
   "cell_type": "code",
   "execution_count": 57,
   "metadata": {},
   "outputs": [
    {
     "name": "stdout",
     "output_type": "stream",
     "text": [
      "The accuracy is:  97.76129288647503 %\n"
     ]
    }
   ],
   "source": [
    "print(\"The accuracy is: \",accuracy_score(test_target, y_pred)*100,\"%\")"
   ]
  },
  {
   "cell_type": "code",
   "execution_count": 58,
   "metadata": {},
   "outputs": [
    {
     "name": "stdout",
     "output_type": "stream",
     "text": [
      "              precision    recall  f1-score   support\n",
      "\n",
      "          -1       0.00      0.00      0.00       338\n",
      "           1       0.98      1.00      0.99     14760\n",
      "\n",
      "   micro avg       0.98      0.98      0.98     15098\n",
      "   macro avg       0.49      0.50      0.49     15098\n",
      "weighted avg       0.96      0.98      0.97     15098\n",
      "\n"
     ]
    },
    {
     "name": "stderr",
     "output_type": "stream",
     "text": [
      "/home/aastha/.local/lib/python3.6/site-packages/sklearn/metrics/classification.py:1143: UndefinedMetricWarning: Precision and F-score are ill-defined and being set to 0.0 in labels with no predicted samples.\n",
      "  'precision', 'predicted', average, warn_for)\n"
     ]
    }
   ],
   "source": [
    "print(classification_report(test_target, y_pred))"
   ]
  },
  {
   "cell_type": "markdown",
   "metadata": {},
   "source": [
    "# Quadratic Support Vector Machine"
   ]
  },
  {
   "cell_type": "code",
   "execution_count": 59,
   "metadata": {},
   "outputs": [
    {
     "name": "stdout",
     "output_type": "stream",
     "text": [
      "The time taken is:  42.67311096191406 millisec\n",
      "Number of mislabeled points out of a total 15098 points : 0\n",
      "True Positives : 14760\n",
      "True Negatives : 338\n",
      "False Positives : 0\n",
      "False Negatives : 0\n"
     ]
    }
   ],
   "source": [
    "start = time.time()\n",
    "SVMQ = SVC(kernel='poly', degree=2, gamma='scale')\n",
    "y_pred = SVMQ.fit(train_data, train_target).predict(test_data)\n",
    "end = time.time()\n",
    "print(\"The time taken is: \",(end-start)*1000,\"millisec\")\n",
    "PrintStats(y_pred, test_target)"
   ]
  },
  {
   "cell_type": "code",
   "execution_count": 60,
   "metadata": {},
   "outputs": [
    {
     "name": "stdout",
     "output_type": "stream",
     "text": [
      "The accuracy is:  100.0 %\n"
     ]
    }
   ],
   "source": [
    "print(\"The accuracy is: \",accuracy_score(test_target, y_pred)*100,\"%\")"
   ]
  },
  {
   "cell_type": "code",
   "execution_count": 61,
   "metadata": {},
   "outputs": [
    {
     "name": "stdout",
     "output_type": "stream",
     "text": [
      "              precision    recall  f1-score   support\n",
      "\n",
      "          -1       1.00      1.00      1.00       338\n",
      "           1       1.00      1.00      1.00     14760\n",
      "\n",
      "   micro avg       1.00      1.00      1.00     15098\n",
      "   macro avg       1.00      1.00      1.00     15098\n",
      "weighted avg       1.00      1.00      1.00     15098\n",
      "\n"
     ]
    }
   ],
   "source": [
    "print(classification_report(test_target, y_pred))"
   ]
  },
  {
   "cell_type": "markdown",
   "metadata": {},
   "source": [
    "# K Nearest Neighbours"
   ]
  },
  {
   "cell_type": "code",
   "execution_count": 62,
   "metadata": {},
   "outputs": [
    {
     "name": "stdout",
     "output_type": "stream",
     "text": [
      "The time taken is:  325.3171443939209 millisec\n",
      "Number of mislabeled points out of a total 15098 points : 4\n",
      "True Positives : 14760\n",
      "True Negatives : 334\n",
      "False Positives : 4\n",
      "False Negatives : 0\n"
     ]
    }
   ],
   "source": [
    "start = time.time()\n",
    "KNN = KNeighborsClassifier(n_neighbors = 2)\n",
    "y_pred = KNN.fit(train_data, train_target).predict(test_data)\n",
    "end = time.time()\n",
    "print(\"The time taken is: \",(end-start)*1000,\"millisec\")\n",
    "PrintStats(y_pred, test_target)"
   ]
  },
  {
   "cell_type": "code",
   "execution_count": 63,
   "metadata": {},
   "outputs": [
    {
     "name": "stdout",
     "output_type": "stream",
     "text": [
      "The accuracy is:  99.97350642469202 %\n"
     ]
    }
   ],
   "source": [
    "print(\"The accuracy is: \",accuracy_score(test_target, y_pred)*100,\"%\")"
   ]
  },
  {
   "cell_type": "code",
   "execution_count": 64,
   "metadata": {},
   "outputs": [
    {
     "name": "stdout",
     "output_type": "stream",
     "text": [
      "              precision    recall  f1-score   support\n",
      "\n",
      "          -1       1.00      0.99      0.99       338\n",
      "           1       1.00      1.00      1.00     14760\n",
      "\n",
      "   micro avg       1.00      1.00      1.00     15098\n",
      "   macro avg       1.00      0.99      1.00     15098\n",
      "weighted avg       1.00      1.00      1.00     15098\n",
      "\n"
     ]
    }
   ],
   "source": [
    "print(classification_report(test_target, y_pred))"
   ]
  },
  {
   "cell_type": "code",
   "execution_count": null,
   "metadata": {},
   "outputs": [],
   "source": []
  }
 ],
 "metadata": {
  "kernelspec": {
   "display_name": "Python 3",
   "language": "python",
   "name": "python3"
  },
  "language_info": {
   "codemirror_mode": {
    "name": "ipython",
    "version": 3
   },
   "file_extension": ".py",
   "mimetype": "text/x-python",
   "name": "python",
   "nbconvert_exporter": "python",
   "pygments_lexer": "ipython3",
   "version": "3.6.9"
  }
 },
 "nbformat": 4,
 "nbformat_minor": 4
}
